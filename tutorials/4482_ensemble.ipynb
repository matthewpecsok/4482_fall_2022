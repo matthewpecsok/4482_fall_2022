{
  "nbformat": 4,
  "nbformat_minor": 0,
  "metadata": {
    "colab": {
      "provenance": [],
      "mount_file_id": "1ZvGyUOUIT1CaH_Io0BDSGE5oBLe9z-Dm",
      "authorship_tag": "ABX9TyMJ5UQF5ZM4yaCj4og29X6j",
      "include_colab_link": true
    },
    "kernelspec": {
      "name": "python3",
      "display_name": "Python 3"
    },
    "language_info": {
      "name": "python"
    }
  },
  "cells": [
    {
      "cell_type": "markdown",
      "metadata": {
        "id": "view-in-github",
        "colab_type": "text"
      },
      "source": [
        "<a href=\"https://colab.research.google.com/github/matthewpecsok/4482_fall_2022/blob/main/tutorials/4482_ensemble.ipynb\" target=\"_parent\"><img src=\"https://colab.research.google.com/assets/colab-badge.svg\" alt=\"Open In Colab\"/></a>"
      ]
    },
    {
      "cell_type": "markdown",
      "metadata": {
        "id": "gihdLJecXNkr"
      },
      "source": [
        "This notebook explores ensemble methods for model creation. We start with a very simple decision tree and then dive into various ensemble methods.\n",
        "\n",
        "https://scikit-learn.org/stable/modules/ensemble.html\n"
      ]
    },
    {
      "cell_type": "code",
      "metadata": {
        "id": "mW6HwHTYVBRM"
      },
      "source": [
        "import pandas as pd\n",
        "from sklearn.tree import DecisionTreeClassifier\n",
        "from sklearn.model_selection import cross_validate\n",
        "from sklearn.model_selection import GridSearchCV\n",
        "from sklearn.ensemble import RandomForestClassifier\n",
        "from sklearn.ensemble import GradientBoostingClassifier\n",
        "from sklearn.ensemble import StackingClassifier\n",
        "from sklearn.svm import SVC\n",
        "from sklearn.linear_model import LogisticRegression\n",
        "from sklearn.ensemble import VotingClassifier\n",
        "\n"
      ],
      "execution_count": null,
      "outputs": []
    },
    {
      "cell_type": "code",
      "metadata": {
        "id": "z7aQHKluWre9"
      },
      "source": [
        "titanic= pd.read_csv('/content/drive/MyDrive/data_sets/titanic_cleaned.csv') "
      ],
      "execution_count": null,
      "outputs": []
    },
    {
      "cell_type": "code",
      "metadata": {
        "colab": {
          "base_uri": "https://localhost:8080/",
          "height": 206
        },
        "id": "ZycUrcyRWxaA",
        "outputId": "5fb7710c-9a60-4574-a4f0-7b271be4575c"
      },
      "source": [
        "titanic.head()"
      ],
      "execution_count": null,
      "outputs": [
        {
          "output_type": "execute_result",
          "data": {
            "text/html": [
              "<div>\n",
              "<style scoped>\n",
              "    .dataframe tbody tr th:only-of-type {\n",
              "        vertical-align: middle;\n",
              "    }\n",
              "\n",
              "    .dataframe tbody tr th {\n",
              "        vertical-align: top;\n",
              "    }\n",
              "\n",
              "    .dataframe thead th {\n",
              "        text-align: right;\n",
              "    }\n",
              "</style>\n",
              "<table border=\"1\" class=\"dataframe\">\n",
              "  <thead>\n",
              "    <tr style=\"text-align: right;\">\n",
              "      <th></th>\n",
              "      <th>Survived</th>\n",
              "      <th>Pclass</th>\n",
              "      <th>Sex</th>\n",
              "      <th>Age</th>\n",
              "      <th>SibSp</th>\n",
              "      <th>Parch</th>\n",
              "      <th>Fare</th>\n",
              "      <th>Cabin</th>\n",
              "      <th>Embarked</th>\n",
              "    </tr>\n",
              "  </thead>\n",
              "  <tbody>\n",
              "    <tr>\n",
              "      <th>0</th>\n",
              "      <td>0</td>\n",
              "      <td>3</td>\n",
              "      <td>male</td>\n",
              "      <td>22.0</td>\n",
              "      <td>1</td>\n",
              "      <td>0</td>\n",
              "      <td>7.2500</td>\n",
              "      <td>missing</td>\n",
              "      <td>S</td>\n",
              "    </tr>\n",
              "    <tr>\n",
              "      <th>1</th>\n",
              "      <td>1</td>\n",
              "      <td>1</td>\n",
              "      <td>female</td>\n",
              "      <td>38.0</td>\n",
              "      <td>1</td>\n",
              "      <td>0</td>\n",
              "      <td>71.2833</td>\n",
              "      <td>C85</td>\n",
              "      <td>C</td>\n",
              "    </tr>\n",
              "    <tr>\n",
              "      <th>2</th>\n",
              "      <td>1</td>\n",
              "      <td>3</td>\n",
              "      <td>female</td>\n",
              "      <td>26.0</td>\n",
              "      <td>0</td>\n",
              "      <td>0</td>\n",
              "      <td>7.9250</td>\n",
              "      <td>missing</td>\n",
              "      <td>S</td>\n",
              "    </tr>\n",
              "    <tr>\n",
              "      <th>3</th>\n",
              "      <td>1</td>\n",
              "      <td>1</td>\n",
              "      <td>female</td>\n",
              "      <td>35.0</td>\n",
              "      <td>1</td>\n",
              "      <td>0</td>\n",
              "      <td>53.1000</td>\n",
              "      <td>C123</td>\n",
              "      <td>S</td>\n",
              "    </tr>\n",
              "    <tr>\n",
              "      <th>4</th>\n",
              "      <td>0</td>\n",
              "      <td>3</td>\n",
              "      <td>male</td>\n",
              "      <td>35.0</td>\n",
              "      <td>0</td>\n",
              "      <td>0</td>\n",
              "      <td>8.0500</td>\n",
              "      <td>missing</td>\n",
              "      <td>S</td>\n",
              "    </tr>\n",
              "  </tbody>\n",
              "</table>\n",
              "</div>"
            ],
            "text/plain": [
              "   Survived  Pclass     Sex   Age  SibSp  Parch     Fare    Cabin Embarked\n",
              "0         0       3    male  22.0      1      0   7.2500  missing        S\n",
              "1         1       1  female  38.0      1      0  71.2833      C85        C\n",
              "2         1       3  female  26.0      0      0   7.9250  missing        S\n",
              "3         1       1  female  35.0      1      0  53.1000     C123        S\n",
              "4         0       3    male  35.0      0      0   8.0500  missing        S"
            ]
          },
          "metadata": {},
          "execution_count": 26
        }
      ]
    },
    {
      "cell_type": "code",
      "metadata": {
        "id": "M3Tz86e2W8v1"
      },
      "source": [
        "titanic.Pclass = titanic.Pclass.astype(str)"
      ],
      "execution_count": null,
      "outputs": []
    },
    {
      "cell_type": "code",
      "metadata": {
        "colab": {
          "base_uri": "https://localhost:8080/"
        },
        "id": "wVgUr-pSXP-A",
        "outputId": "f92af6da-ffb8-41c4-82e3-32f0c9fea905"
      },
      "source": [
        "titanic.info()"
      ],
      "execution_count": null,
      "outputs": [
        {
          "output_type": "stream",
          "name": "stdout",
          "text": [
            "<class 'pandas.core.frame.DataFrame'>\n",
            "RangeIndex: 714 entries, 0 to 713\n",
            "Data columns (total 9 columns):\n",
            " #   Column    Non-Null Count  Dtype  \n",
            "---  ------    --------------  -----  \n",
            " 0   Survived  714 non-null    int64  \n",
            " 1   Pclass    714 non-null    object \n",
            " 2   Sex       714 non-null    object \n",
            " 3   Age       714 non-null    float64\n",
            " 4   SibSp     714 non-null    int64  \n",
            " 5   Parch     714 non-null    int64  \n",
            " 6   Fare      714 non-null    float64\n",
            " 7   Cabin     714 non-null    object \n",
            " 8   Embarked  714 non-null    object \n",
            "dtypes: float64(2), int64(3), object(4)\n",
            "memory usage: 50.3+ KB\n"
          ]
        }
      ]
    },
    {
      "cell_type": "code",
      "metadata": {
        "id": "G6veLSX7XQ9t"
      },
      "source": [
        "titanic_enc = pd.get_dummies(titanic)"
      ],
      "execution_count": null,
      "outputs": []
    },
    {
      "cell_type": "code",
      "metadata": {
        "id": "kP8GWOd4XWbH"
      },
      "source": [
        "y_target = titanic_enc.pop('Survived')"
      ],
      "execution_count": null,
      "outputs": []
    },
    {
      "cell_type": "markdown",
      "metadata": {
        "id": "hBy3eveMMmu6"
      },
      "source": [
        "Below we will explore a variety of different decision tree models. we begin with a simple default param model, then add in grid search, move to random forest, and finally a boosting classifier. It's worth noting that each of these methods have strengths and weaknesses. Ensemble methods tend to perform better than their more simple counterparts, but as you will see below it's not always quite that simple. Just throwing an ensemble method at a problem won't always improve on score, the algorithm must be implemented correctly to take advantage of the classifiers strengths and minimize the weaknesses. \n",
        "\n",
        "One easy to see tradeoff is complexity. The basic decision tree runs in a fraction of the time of these more complex methods. Especially when combined with gridsearch the ensembles are building hundreds to thousands more models than even a grid search decision tree. \n",
        "\n",
        "Our dataset is a little over 700 rows. Imagine how long these would take on a dataset with tens of thousands or millions of rows. "
      ]
    },
    {
      "cell_type": "markdown",
      "metadata": {
        "id": "FtpwB1dHH8KA"
      },
      "source": [
        "# Decision Tree with default params\n",
        "Not an ensemble"
      ]
    },
    {
      "cell_type": "code",
      "metadata": {
        "colab": {
          "base_uri": "https://localhost:8080/"
        },
        "id": "pvOQU09JH_AK",
        "outputId": "9dd25ceb-e16c-45b4-9177-a87663258339"
      },
      "source": [
        "clf = DecisionTreeClassifier().fit(titanic_enc, y_target)\n",
        "pd.DataFrame(cross_validate(clf,titanic_enc,y_target,scoring=['f1'])).agg('mean')"
      ],
      "execution_count": null,
      "outputs": [
        {
          "output_type": "execute_result",
          "data": {
            "text/plain": [
              "fit_time      0.008959\n",
              "score_time    0.005420\n",
              "test_f1       0.729363\n",
              "dtype: float64"
            ]
          },
          "metadata": {},
          "execution_count": 31
        }
      ]
    },
    {
      "cell_type": "markdown",
      "metadata": {
        "id": "nQowcDe4F9K8"
      },
      "source": [
        "# Decision Tree Classifier with GridSearchCV\n",
        "still not ensemble, but clearly more complex than training a single tree. This explores the parameter space far more thoroughly to find the best performing model."
      ]
    },
    {
      "cell_type": "code",
      "metadata": {
        "id": "3fvhbW8bYOW-"
      },
      "source": [
        "parameters = {'max_depth':list(range(1,20,2))}\n",
        "clf = GridSearchCV(DecisionTreeClassifier(), parameters,scoring=['f1'],refit=False)\n",
        "clf = clf.fit(titanic_enc, y_target)"
      ],
      "execution_count": null,
      "outputs": []
    },
    {
      "cell_type": "code",
      "metadata": {
        "colab": {
          "base_uri": "https://localhost:8080/",
          "height": 363
        },
        "id": "uQ_yxrAplvL7",
        "outputId": "abaf7fc2-a178-4a0f-951a-73d79302fa4e"
      },
      "source": [
        "results = clf.cv_results_\n",
        "pd.DataFrame(results)[['param_max_depth','mean_test_f1']].sort_values('mean_test_f1',ascending=False).head(10)"
      ],
      "execution_count": null,
      "outputs": [
        {
          "output_type": "execute_result",
          "data": {
            "text/html": [
              "<div>\n",
              "<style scoped>\n",
              "    .dataframe tbody tr th:only-of-type {\n",
              "        vertical-align: middle;\n",
              "    }\n",
              "\n",
              "    .dataframe tbody tr th {\n",
              "        vertical-align: top;\n",
              "    }\n",
              "\n",
              "    .dataframe thead th {\n",
              "        text-align: right;\n",
              "    }\n",
              "</style>\n",
              "<table border=\"1\" class=\"dataframe\">\n",
              "  <thead>\n",
              "    <tr style=\"text-align: right;\">\n",
              "      <th></th>\n",
              "      <th>param_max_depth</th>\n",
              "      <th>mean_test_f1</th>\n",
              "    </tr>\n",
              "  </thead>\n",
              "  <tbody>\n",
              "    <tr>\n",
              "      <th>4</th>\n",
              "      <td>9</td>\n",
              "      <td>0.749360</td>\n",
              "    </tr>\n",
              "    <tr>\n",
              "      <th>2</th>\n",
              "      <td>5</td>\n",
              "      <td>0.732086</td>\n",
              "    </tr>\n",
              "    <tr>\n",
              "      <th>1</th>\n",
              "      <td>3</td>\n",
              "      <td>0.730981</td>\n",
              "    </tr>\n",
              "    <tr>\n",
              "      <th>5</th>\n",
              "      <td>11</td>\n",
              "      <td>0.728821</td>\n",
              "    </tr>\n",
              "    <tr>\n",
              "      <th>3</th>\n",
              "      <td>7</td>\n",
              "      <td>0.725540</td>\n",
              "    </tr>\n",
              "    <tr>\n",
              "      <th>9</th>\n",
              "      <td>19</td>\n",
              "      <td>0.725481</td>\n",
              "    </tr>\n",
              "    <tr>\n",
              "      <th>6</th>\n",
              "      <td>13</td>\n",
              "      <td>0.725471</td>\n",
              "    </tr>\n",
              "    <tr>\n",
              "      <th>8</th>\n",
              "      <td>17</td>\n",
              "      <td>0.722536</td>\n",
              "    </tr>\n",
              "    <tr>\n",
              "      <th>7</th>\n",
              "      <td>15</td>\n",
              "      <td>0.717685</td>\n",
              "    </tr>\n",
              "    <tr>\n",
              "      <th>0</th>\n",
              "      <td>1</td>\n",
              "      <td>0.713036</td>\n",
              "    </tr>\n",
              "  </tbody>\n",
              "</table>\n",
              "</div>"
            ],
            "text/plain": [
              "  param_max_depth  mean_test_f1\n",
              "4               9      0.749360\n",
              "2               5      0.732086\n",
              "1               3      0.730981\n",
              "5              11      0.728821\n",
              "3               7      0.725540\n",
              "9              19      0.725481\n",
              "6              13      0.725471\n",
              "8              17      0.722536\n",
              "7              15      0.717685\n",
              "0               1      0.713036"
            ]
          },
          "metadata": {},
          "execution_count": 33
        }
      ]
    },
    {
      "cell_type": "markdown",
      "metadata": {
        "id": "MptdDiLtGCh8"
      },
      "source": [
        "# Random Forest (Bagging) Classifier with GridSearchCV\n",
        "\n",
        "A bagging model in which predictions are averaged. Bagging often performs better with very deep trees which in general would overfit if it weren't for the averaging of predictions"
      ]
    },
    {
      "cell_type": "code",
      "metadata": {
        "id": "Eup5Kcera-da"
      },
      "source": [
        "parameters = {'max_depth':list(range(1,20,2)),\n",
        "              'n_estimators':[1,2,3,4,5,6,7,8,9,10,100,200,300,400,500,600,700,900,1000]}\n",
        "clf = GridSearchCV(RandomForestClassifier(n_jobs=-1), parameters,scoring=['f1'],refit=False)\n",
        "clf = clf.fit(titanic_enc, y_target)\n",
        "results = clf.cv_results_\n"
      ],
      "execution_count": null,
      "outputs": []
    },
    {
      "cell_type": "code",
      "metadata": {
        "colab": {
          "base_uri": "https://localhost:8080/",
          "height": 363
        },
        "id": "JL5YL8h5cf1L",
        "outputId": "07f55816-27d2-41ef-81db-af65f86a61d6"
      },
      "source": [
        "pd.DataFrame(results)[['param_max_depth','param_n_estimators','mean_test_f1']].sort_values('mean_test_f1',ascending=False).head(10)"
      ],
      "execution_count": null,
      "outputs": [
        {
          "output_type": "execute_result",
          "data": {
            "text/html": [
              "<div>\n",
              "<style scoped>\n",
              "    .dataframe tbody tr th:only-of-type {\n",
              "        vertical-align: middle;\n",
              "    }\n",
              "\n",
              "    .dataframe tbody tr th {\n",
              "        vertical-align: top;\n",
              "    }\n",
              "\n",
              "    .dataframe thead th {\n",
              "        text-align: right;\n",
              "    }\n",
              "</style>\n",
              "<table border=\"1\" class=\"dataframe\">\n",
              "  <thead>\n",
              "    <tr style=\"text-align: right;\">\n",
              "      <th></th>\n",
              "      <th>param_max_depth</th>\n",
              "      <th>param_n_estimators</th>\n",
              "      <th>mean_test_f1</th>\n",
              "    </tr>\n",
              "  </thead>\n",
              "  <tbody>\n",
              "    <tr>\n",
              "      <th>84</th>\n",
              "      <td>9</td>\n",
              "      <td>9</td>\n",
              "      <td>0.733887</td>\n",
              "    </tr>\n",
              "    <tr>\n",
              "      <th>59</th>\n",
              "      <td>7</td>\n",
              "      <td>3</td>\n",
              "      <td>0.731255</td>\n",
              "    </tr>\n",
              "    <tr>\n",
              "      <th>116</th>\n",
              "      <td>13</td>\n",
              "      <td>3</td>\n",
              "      <td>0.730899</td>\n",
              "    </tr>\n",
              "    <tr>\n",
              "      <th>122</th>\n",
              "      <td>13</td>\n",
              "      <td>9</td>\n",
              "      <td>0.729749</td>\n",
              "    </tr>\n",
              "    <tr>\n",
              "      <th>81</th>\n",
              "      <td>9</td>\n",
              "      <td>6</td>\n",
              "      <td>0.727456</td>\n",
              "    </tr>\n",
              "    <tr>\n",
              "      <th>60</th>\n",
              "      <td>7</td>\n",
              "      <td>4</td>\n",
              "      <td>0.725992</td>\n",
              "    </tr>\n",
              "    <tr>\n",
              "      <th>158</th>\n",
              "      <td>17</td>\n",
              "      <td>7</td>\n",
              "      <td>0.725603</td>\n",
              "    </tr>\n",
              "    <tr>\n",
              "      <th>146</th>\n",
              "      <td>15</td>\n",
              "      <td>400</td>\n",
              "      <td>0.724616</td>\n",
              "    </tr>\n",
              "    <tr>\n",
              "      <th>101</th>\n",
              "      <td>11</td>\n",
              "      <td>7</td>\n",
              "      <td>0.724395</td>\n",
              "    </tr>\n",
              "    <tr>\n",
              "      <th>126</th>\n",
              "      <td>13</td>\n",
              "      <td>300</td>\n",
              "      <td>0.724240</td>\n",
              "    </tr>\n",
              "  </tbody>\n",
              "</table>\n",
              "</div>"
            ],
            "text/plain": [
              "    param_max_depth param_n_estimators  mean_test_f1\n",
              "84                9                  9      0.733887\n",
              "59                7                  3      0.731255\n",
              "116              13                  3      0.730899\n",
              "122              13                  9      0.729749\n",
              "81                9                  6      0.727456\n",
              "60                7                  4      0.725992\n",
              "158              17                  7      0.725603\n",
              "146              15                400      0.724616\n",
              "101              11                  7      0.724395\n",
              "126              13                300      0.724240"
            ]
          },
          "metadata": {},
          "execution_count": 35
        }
      ]
    },
    {
      "cell_type": "code",
      "metadata": {
        "colab": {
          "base_uri": "https://localhost:8080/"
        },
        "id": "K-G6ZPGYBOms",
        "outputId": "24dba5c1-58af-425e-b27b-233f45d04f7a"
      },
      "source": [
        "list(range(1,20,2))"
      ],
      "execution_count": null,
      "outputs": [
        {
          "output_type": "execute_result",
          "data": {
            "text/plain": [
              "[1, 3, 5, 7, 9, 11, 13, 15, 17, 19]"
            ]
          },
          "metadata": {},
          "execution_count": 36
        }
      ]
    },
    {
      "cell_type": "markdown",
      "metadata": {
        "id": "gJLg96TNGId2"
      },
      "source": [
        "# Gradient Boosting Classifier with GridSearchCV"
      ]
    },
    {
      "cell_type": "code",
      "metadata": {
        "id": "5-y8Za7geZsX"
      },
      "source": [
        "\n",
        "\n",
        "parameters = {'max_depth':list(range(1,20,2)),\n",
        "              'n_estimators':[1,2,3,4,5,6,7,8,9,10,100,200,300,400,500,600]\n",
        "              }\n",
        "clf = GridSearchCV(GradientBoostingClassifier(), parameters,scoring=['f1'],refit=False)\n",
        "clf = clf.fit(titanic_enc, y_target)\n",
        "results = clf.cv_results_"
      ],
      "execution_count": null,
      "outputs": []
    },
    {
      "cell_type": "code",
      "metadata": {
        "colab": {
          "base_uri": "https://localhost:8080/",
          "height": 363
        },
        "id": "pURWmTfliqx7",
        "outputId": "d322c594-2af5-4ea3-ec4d-a6d768f7cda1"
      },
      "source": [
        "pd.DataFrame(results)[['param_n_estimators','param_max_depth','mean_test_f1']].sort_values('mean_test_f1',ascending=False).head(10)"
      ],
      "execution_count": null,
      "outputs": [
        {
          "output_type": "execute_result",
          "data": {
            "text/html": [
              "<div>\n",
              "<style scoped>\n",
              "    .dataframe tbody tr th:only-of-type {\n",
              "        vertical-align: middle;\n",
              "    }\n",
              "\n",
              "    .dataframe tbody tr th {\n",
              "        vertical-align: top;\n",
              "    }\n",
              "\n",
              "    .dataframe thead th {\n",
              "        text-align: right;\n",
              "    }\n",
              "</style>\n",
              "<table border=\"1\" class=\"dataframe\">\n",
              "  <thead>\n",
              "    <tr style=\"text-align: right;\">\n",
              "      <th></th>\n",
              "      <th>param_n_estimators</th>\n",
              "      <th>param_max_depth</th>\n",
              "      <th>mean_test_f1</th>\n",
              "    </tr>\n",
              "  </thead>\n",
              "  <tbody>\n",
              "    <tr>\n",
              "      <th>30</th>\n",
              "      <td>500</td>\n",
              "      <td>3</td>\n",
              "      <td>0.750529</td>\n",
              "    </tr>\n",
              "    <tr>\n",
              "      <th>84</th>\n",
              "      <td>5</td>\n",
              "      <td>11</td>\n",
              "      <td>0.750072</td>\n",
              "    </tr>\n",
              "    <tr>\n",
              "      <th>57</th>\n",
              "      <td>10</td>\n",
              "      <td>7</td>\n",
              "      <td>0.747275</td>\n",
              "    </tr>\n",
              "    <tr>\n",
              "      <th>85</th>\n",
              "      <td>6</td>\n",
              "      <td>11</td>\n",
              "      <td>0.744705</td>\n",
              "    </tr>\n",
              "    <tr>\n",
              "      <th>29</th>\n",
              "      <td>400</td>\n",
              "      <td>3</td>\n",
              "      <td>0.744074</td>\n",
              "    </tr>\n",
              "    <tr>\n",
              "      <th>31</th>\n",
              "      <td>600</td>\n",
              "      <td>3</td>\n",
              "      <td>0.744063</td>\n",
              "    </tr>\n",
              "    <tr>\n",
              "      <th>108</th>\n",
              "      <td>300</td>\n",
              "      <td>13</td>\n",
              "      <td>0.742739</td>\n",
              "    </tr>\n",
              "    <tr>\n",
              "      <th>81</th>\n",
              "      <td>2</td>\n",
              "      <td>11</td>\n",
              "      <td>0.742308</td>\n",
              "    </tr>\n",
              "    <tr>\n",
              "      <th>72</th>\n",
              "      <td>9</td>\n",
              "      <td>9</td>\n",
              "      <td>0.742204</td>\n",
              "    </tr>\n",
              "    <tr>\n",
              "      <th>36</th>\n",
              "      <td>5</td>\n",
              "      <td>5</td>\n",
              "      <td>0.742092</td>\n",
              "    </tr>\n",
              "  </tbody>\n",
              "</table>\n",
              "</div>"
            ],
            "text/plain": [
              "    param_n_estimators param_max_depth  mean_test_f1\n",
              "30                 500               3      0.750529\n",
              "84                   5              11      0.750072\n",
              "57                  10               7      0.747275\n",
              "85                   6              11      0.744705\n",
              "29                 400               3      0.744074\n",
              "31                 600               3      0.744063\n",
              "108                300              13      0.742739\n",
              "81                   2              11      0.742308\n",
              "72                   9               9      0.742204\n",
              "36                   5               5      0.742092"
            ]
          },
          "metadata": {},
          "execution_count": 38
        }
      ]
    },
    {
      "cell_type": "markdown",
      "metadata": {
        "id": "R92bvBDmDV2e"
      },
      "source": [
        "# Voting Ensemble\n",
        "\n",
        "Predicts the class that the majority of classifiers predicted. In this case if we have the three classifiers predict\n",
        "\n",
        "1 predicts class 0\n",
        "\n",
        "2 predicts class 1\n",
        "\n",
        "3 predicts class 0\n",
        "\n",
        "then the final prediction will be 0\n",
        "\n"
      ]
    },
    {
      "cell_type": "code",
      "metadata": {
        "id": "YDEMxmJhlKO3",
        "colab": {
          "base_uri": "https://localhost:8080/"
        },
        "outputId": "4d2ee1c7-9226-45d9-b3eb-4a7848cc37ab"
      },
      "source": [
        "clf1 = SVC(kernel='sigmoid',random_state=1)\n",
        "clf2 = RandomForestClassifier(n_estimators=50, random_state=1)\n",
        "clf3 = SVC(kernel='rbf',random_state=1)\n",
        "\n",
        "eclf = VotingClassifier(\n",
        "    estimators=[('svc_sig', clf1), ('rf', clf2), ('svc_rbf', clf3)],\n",
        "    voting='hard')\n",
        "\n",
        "\n",
        "eclf = eclf.fit(titanic_enc, y_target)\n",
        "pd.DataFrame(cross_validate(eclf,titanic_enc,y_target,scoring=['f1'])).agg('mean')\n"
      ],
      "execution_count": null,
      "outputs": [
        {
          "output_type": "execute_result",
          "data": {
            "text/plain": [
              "fit_time      0.170753\n",
              "score_time    0.034948\n",
              "test_f1       0.641739\n",
              "dtype: float64"
            ]
          },
          "metadata": {},
          "execution_count": 39
        }
      ]
    },
    {
      "cell_type": "markdown",
      "metadata": {
        "id": "JrgPS89XQE9f"
      },
      "source": [
        "# Voting with Grid Search\n",
        "\n",
        "Here we show that it is possible to combine our use of GridSearch, Cross-Validation and Ensemble methods. While the performance is not as good in this case it is a very robust method that can outperform in some circumstances. "
      ]
    },
    {
      "cell_type": "code",
      "metadata": {
        "colab": {
          "base_uri": "https://localhost:8080/"
        },
        "id": "A8DT7kuqFRau",
        "outputId": "3dbc95a7-b7c4-41fe-f933-16fa40998dd0"
      },
      "source": [
        "# dropping the number of grid search params to reduce fit time\n",
        "\n",
        "# start with a sigmoid SVC\n",
        "parameters_svc_sig = {'C':list(range(1,10,2))}\n",
        "clf1 = GridSearchCV(SVC(kernel='sigmoid',random_state=1), parameters_svc_sig,scoring='f1',refit=True)\n",
        "\n",
        "\n",
        "# Add in a random forest\n",
        "parameters_dt = {'max_depth':list(range(1,20,2)),\n",
        "                'n_estimators':[1,2,3,4,5,6,7,8,9,10,100,200]\n",
        "                 }\n",
        "clf2 = GridSearchCV(RandomForestClassifier(), parameters_dt,scoring='f1',refit=True)\n",
        "\n",
        "# and finally a SVC with a radial kernel\n",
        "parameters_svc_rbf = {'C':list(range(1,10,2))}\n",
        "clf3 = GridSearchCV(SVC(kernel='rbf',random_state=1), parameters_svc_rbf,scoring='f1',refit=True)\n",
        "\n",
        "eclf = VotingClassifier(\n",
        "    estimators=[('svc_sig', clf1), ('rf', clf2), ('svc_rbf', clf3)],\n",
        "    voting='hard')\n",
        "\n",
        "\n",
        "eclf = eclf.fit(titanic_enc, y_target)\n",
        "pd.DataFrame(cross_validate(eclf,titanic_enc,y_target,scoring=['f1'])).agg('mean')"
      ],
      "execution_count": null,
      "outputs": [
        {
          "output_type": "execute_result",
          "data": {
            "text/plain": [
              "fit_time      38.257883\n",
              "score_time     0.031471\n",
              "test_f1        0.671147\n",
              "dtype: float64"
            ]
          },
          "metadata": {},
          "execution_count": 41
        }
      ]
    },
    {
      "cell_type": "markdown",
      "metadata": {
        "id": "mF4eHWLzlM3o"
      },
      "source": [
        "# Stacked Ensemble\n",
        "\n",
        "Stacking is one of the more complex models we will explore in this class. It combines multiple models each trained using a cross validated dataset into a new single gradient boosted model which is then trained using cross validation again. "
      ]
    },
    {
      "cell_type": "code",
      "metadata": {
        "id": "VilGJBcEHnci"
      },
      "source": [
        "clf1 = SVC(kernel='sigmoid',random_state=1)\n",
        "clf2 = RandomForestClassifier(n_estimators=50, random_state=1)\n",
        "clf3 = SVC(kernel='rbf',random_state=1)"
      ],
      "execution_count": null,
      "outputs": []
    },
    {
      "cell_type": "code",
      "metadata": {
        "id": "WhjRzXWKkWLB"
      },
      "source": [
        "estimators = [('svc_sig', clf1),\n",
        "              ('rf', clf2),\n",
        "              ('svc_rbf', clf3)]"
      ],
      "execution_count": null,
      "outputs": []
    },
    {
      "cell_type": "code",
      "metadata": {
        "colab": {
          "base_uri": "https://localhost:8080/"
        },
        "id": "N_6sLACJO0Tl",
        "outputId": "fbdf203b-6250-4ecb-dfdb-bcb57b3e716f"
      },
      "source": [
        "\n",
        "final_estimator = GradientBoostingClassifier(\n",
        "    n_estimators=25, subsample=0.5, min_samples_leaf=25, max_features=1,\n",
        "    random_state=42)\n",
        "\n",
        "\n",
        "\n",
        "stacked_ens = StackingClassifier(\n",
        "    estimators=estimators,\n",
        "    final_estimator=final_estimator)\n",
        "\n",
        "pd.DataFrame(cross_validate(stacked_ens,titanic_enc,y_target,scoring=['f1'])).agg('mean')"
      ],
      "execution_count": null,
      "outputs": [
        {
          "output_type": "execute_result",
          "data": {
            "text/plain": [
              "fit_time      1.053856\n",
              "score_time    0.032374\n",
              "test_f1       0.692399\n",
              "dtype: float64"
            ]
          },
          "metadata": {},
          "execution_count": 44
        }
      ]
    },
    {
      "cell_type": "markdown",
      "metadata": {
        "id": "YyNp-TEDltbp"
      },
      "source": [
        "# Stacking Ensemble with GridSearchCV\n",
        "\n",
        "Now we stack but throw in grid search to try and get the best single model for each classifier. "
      ]
    },
    {
      "cell_type": "code",
      "metadata": {
        "id": "4U_ByVCNlgwz"
      },
      "source": [
        "parameters_svc_sig = {'C':list(range(1,3,1))}\n",
        "clf1 = GridSearchCV(SVC(kernel='sigmoid',random_state=1), parameters_svc_sig,scoring='f1',refit=True)\n",
        "\n",
        "\n",
        "# Add in a random forest\n",
        "parameters_dt = {'max_depth':list(range(1,3,1)),\n",
        "                'n_estimators':[1,2,3,4,5] # reduce the grid search to make the model fit faster (it won't be as robust though)\n",
        "                 }\n",
        "clf2 = GridSearchCV(RandomForestClassifier(), parameters_dt,scoring='f1',refit=True)\n",
        "\n",
        "# and finally a SVC with a radial kernel\n",
        "parameters_svc_rbf = {'C':list(range(1,3,1))}\n",
        "clf3 = GridSearchCV(SVC(kernel='rbf',random_state=1), parameters_svc_rbf,scoring='f1',refit=True)"
      ],
      "execution_count": null,
      "outputs": []
    },
    {
      "cell_type": "code",
      "metadata": {
        "id": "OWZ33seQly62"
      },
      "source": [
        "estimators = [('svc_sig', clf1),\n",
        "              ('rf', clf2),\n",
        "              ('svc_rbf', clf3)]"
      ],
      "execution_count": null,
      "outputs": []
    },
    {
      "cell_type": "markdown",
      "metadata": {
        "id": "PKXwp71RoI1v"
      },
      "source": [
        "note that max_features = 1. this new feature is actually the prediction from each of the estimators "
      ]
    },
    {
      "cell_type": "code",
      "metadata": {
        "colab": {
          "base_uri": "https://localhost:8080/"
        },
        "id": "AUL3x2rmlWZ-",
        "outputId": "9620fa19-70b7-4622-af8b-5e1d20adc37c"
      },
      "source": [
        "# note that the performance here will be underwhelming as combinging grid search with a stacking classifier is a computationally expensive \n",
        "# procedure. previous runs of this using the same grid params as models above took over 2 hours to run\n",
        "# this code is mainly for demonstration purposes therefore and should not be interpreted as a \n",
        "# reason to not consinder stacking due to poor performance\n",
        "\n",
        "from sklearn.ensemble import GradientBoostingClassifier\n",
        "from sklearn.ensemble import StackingClassifier\n",
        "\n",
        "\n",
        "final_estimator = GradientBoostingClassifier(\n",
        "    n_estimators=25, subsample=0.5, min_samples_leaf=25, max_features=1,\n",
        "    random_state=42)\n",
        "\n",
        "\n",
        "stacked_ens = StackingClassifier(\n",
        "    estimators=estimators,\n",
        "    final_estimator=final_estimator)\n",
        "\n",
        "pd.DataFrame(cross_validate(stacked_ens,titanic_enc,y_target,scoring=['f1'])).agg('mean')"
      ],
      "execution_count": null,
      "outputs": [
        {
          "output_type": "execute_result",
          "data": {
            "text/plain": [
              "fit_time      8.060221\n",
              "score_time    0.026138\n",
              "test_f1       0.646194\n",
              "dtype: float64"
            ]
          },
          "metadata": {},
          "execution_count": 47
        }
      ]
    },
    {
      "cell_type": "code",
      "metadata": {
        "id": "bYEIrEUl-tee"
      },
      "source": [
        "!cp \"/content/drive/My Drive/Colab Notebooks/4482_ensemble.ipynb\" ./\n",
        "\n",
        "# run the second shell command, jupyter nbconvert --to html \"file name of the notebook\"\n",
        "# create html from ipynb\n",
        "\n",
        "!jupyter nbconvert --to html \"4482_ensemble.ipynb\""
      ],
      "execution_count": null,
      "outputs": []
    }
  ]
}