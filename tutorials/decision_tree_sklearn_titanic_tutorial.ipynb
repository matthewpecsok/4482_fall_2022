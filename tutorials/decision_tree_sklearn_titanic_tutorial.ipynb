{
  "nbformat": 4,
  "nbformat_minor": 0,
  "metadata": {
    "colab": {
      "name": "decision_tree_sklearn_titanic_tutorial.ipynb",
      "provenance": [],
      "collapsed_sections": [],
      "authorship_tag": "ABX9TyMM1+Twh2+7eEIU4KFzqrn8",
      "include_colab_link": true
    },
    "kernelspec": {
      "name": "python3",
      "display_name": "Python 3"
    },
    "language_info": {
      "name": "python"
    }
  },
  "cells": [
    {
      "cell_type": "markdown",
      "metadata": {
        "id": "view-in-github",
        "colab_type": "text"
      },
      "source": [
        "<a href=\"https://colab.research.google.com/github/matthewpecsok/4482_fall_2022/blob/main/tutorials/decision_tree_sklearn_titanic_tutorial.ipynb\" target=\"_parent\"><img src=\"https://colab.research.google.com/assets/colab-badge.svg\" alt=\"Open In Colab\"/></a>"
      ]
    },
    {
      "cell_type": "markdown",
      "metadata": {
        "id": "k5uVUd5CN-40"
      },
      "source": [
        "\n",
        "\n",
        "# Decision Tree titanic tutorial\n",
        "\n",
        "Dr. Olivia Sheng\n",
        "September 16, 2016\n",
        "\n",
        "Converted to python by Steven Wang and Matthew Pecsok 5/2021\n",
        "\n"
      ]
    },
    {
      "cell_type": "markdown",
      "metadata": {
        "id": "irZn-wtVPQBX"
      },
      "source": [
        "## table of contents\n",
        "\n",
        "1.   Data Description\n",
        "2.   Set up, data import and inspections\n",
        "3.   Pre-model-building data exploration\n",
        "4.   Build decision trees\n",
        "5.   Generate performance metrics\n",
        "\n",
        "\n"
      ]
    },
    {
      "cell_type": "markdown",
      "metadata": {
        "id": "BUwo-VbLOHPj"
      },
      "source": [
        "# 1 Data Description\n",
        "The sinking of the RMS Titanic is one of the most infamous shipwrecks in history. On April 15, 1912, during her maiden voyage, the Titanic sank after colliding with an iceberg, killing 1502 out of 2224 passengers and crew. This sensational tragedy shocked the international community and led to better safety regulations for ships.One of the reasons that the shipwreck led to such loss of life was that there were not enough lifeboats for the passengers and crew. Although there was some element of luck involved in surviving the sinking, some groups of people such as women, children, and the upper-class were more likely to survive than others.\n",
        "\n",
        "VARIABLE DESCRIPTIONS:\n",
        "\n",
        "PassengerID Unique passenger identifier \n",
        "\n",
        "Survived Survival (0 = No; 1 = Yes) \n",
        "\n",
        "Pclass Passenger Class(1 = 1st; 2 = 2nd; 3 = 3rd) \n",
        "(Pclass is a proxy for socio-economic status (SES) 1st ~ Upper; 2nd ~ Middle; 3rd ~ Lower) \n",
        "\n",
        "Name Name \n",
        "\n",
        "Sex Sex \n",
        "\n",
        "Age Age (Age is in Years; Fractional if Age less than One (1) If the Age is Estimated, it is in the form xx.5) \n",
        "\n",
        "Sibsp Number of Siblings/Spouses Aboard \n",
        "\n",
        "Parch Number of Parents/Children Aboard \n",
        "\n",
        "Ticket Ticket Number \n",
        "\n",
        "Fare Passenger Fare \n",
        "\n",
        "Cabin Cabin \n",
        "\n",
        "Embarked Port of Embarkation (C = Cherbourg; Q = Queenstown; S = Southampton)"
      ]
    },
    {
      "cell_type": "markdown",
      "metadata": {
        "id": "vE-c91reV6L5"
      },
      "source": [
        "# 2 Set up, data import and inspections"
      ]
    },
    {
      "cell_type": "markdown",
      "metadata": {
        "id": "Wr12XFjDQYEq"
      },
      "source": [
        "## load libraries"
      ]
    },
    {
      "cell_type": "code",
      "metadata": {
        "id": "qLQD3Ez_16UD"
      },
      "source": [
        "## Load packages \n",
        "\n",
        "import pandas as pd\n",
        "import numpy as np\n",
        "import sklearn\n",
        "from sklearn import tree\n",
        "from sklearn import metrics\n",
        "from sklearn.metrics import confusion_matrix\n",
        "from sklearn.model_selection import train_test_split\n",
        "\n",
        "import matplotlib.pyplot as plt\n",
        "\n"
      ],
      "execution_count": null,
      "outputs": []
    },
    {
      "cell_type": "markdown",
      "metadata": {
        "id": "LZ33SnW9QZz2"
      },
      "source": [
        "## import data"
      ]
    },
    {
      "cell_type": "code",
      "metadata": {
        "id": "SVYjSjc3P3bf"
      },
      "source": [
        "# read_csv has some defaults, we can just take the defaults here, but be aware they exist. \n",
        "titanic_raw = pd.read_csv(\"https://raw.githubusercontent.com/matthewpecsok/4482_fall_2022/main/data/titanic_cleaned.csv\")\n",
        "titanic = titanic_raw.copy()\n",
        "\n",
        "# raw is the original unedited version of our data which can be useful for inspecting changes we've made \n",
        "# compared to the original unedited data"
      ],
      "execution_count": null,
      "outputs": []
    },
    {
      "cell_type": "markdown",
      "metadata": {
        "id": "3lavHznJRuvF"
      },
      "source": [
        "## get summary statistics of dataframe"
      ]
    },
    {
      "cell_type": "code",
      "metadata": {
        "id": "u2AGzKsIQbyZ"
      },
      "source": [
        "titanic.info()"
      ],
      "execution_count": null,
      "outputs": []
    },
    {
      "cell_type": "code",
      "metadata": {
        "id": "QnpxYpjgQhj9"
      },
      "source": [
        "titanic.head()"
      ],
      "execution_count": null,
      "outputs": []
    },
    {
      "cell_type": "code",
      "metadata": {
        "id": "b_Gp_my_QjRj"
      },
      "source": [
        "titanic.describe(include='all')"
      ],
      "execution_count": null,
      "outputs": []
    },
    {
      "cell_type": "code",
      "metadata": {
        "id": "s2a13bPuRWsZ"
      },
      "source": [
        "# count null values (extremely important to identify nulls)\n",
        "\n",
        "titanic.isnull().sum()\n",
        "\n",
        "# no nulls, that's good news and almost never what happens in the real world."
      ],
      "execution_count": null,
      "outputs": []
    },
    {
      "cell_type": "code",
      "metadata": {
        "id": "gs-vNe9isg1a"
      },
      "source": [
        "titanic.Survived.value_counts()"
      ],
      "execution_count": null,
      "outputs": []
    },
    {
      "cell_type": "code",
      "source": [
        "titanic.Survived.value_counts(normalize=True)"
      ],
      "metadata": {
        "id": "0-_odBPFlwjf"
      },
      "execution_count": null,
      "outputs": []
    },
    {
      "cell_type": "code",
      "metadata": {
        "id": "Hvq6s-5rs6At"
      },
      "source": [
        "round(titanic.Survived.value_counts() / len(titanic),2)"
      ],
      "execution_count": null,
      "outputs": []
    },
    {
      "cell_type": "markdown",
      "metadata": {
        "id": "abggZMSYRAk0"
      },
      "source": [
        "## transform character/string to categorical "
      ]
    },
    {
      "cell_type": "code",
      "metadata": {
        "id": "pDM_EbWkRFoo"
      },
      "source": [
        "# astype is function in pandas that allows one to convert from one type of data to another ie string to int, or in this \n",
        "# case string to categorical\n",
        "# https://pandas.pydata.org/docs/reference/api/pandas.Categorical.html\n",
        "\n",
        "titanic = titanic.astype({'Survived': 'category',\n",
        "                                          'Sex': 'category',\n",
        "                                          'Pclass': 'category',\n",
        "                                          'Cabin': 'category',\n",
        "                                          'Embarked': 'category'})\n",
        "titanic.dtypes"
      ],
      "execution_count": null,
      "outputs": []
    },
    {
      "cell_type": "markdown",
      "metadata": {
        "id": "ZIhfilbfSRtH"
      },
      "source": [
        "## dummy encode the data\n",
        "\n",
        "these models cannot handle string/words. they must be converted to numeric values"
      ]
    },
    {
      "cell_type": "code",
      "metadata": {
        "id": "EM0zfuf6Se5x"
      },
      "source": [
        "# extract the target column of survived. target aka y\n",
        "# while R is happy to have the target in the dataframe with the X predictors sklearn prefers them separate\n",
        "y_target = titanic.pop('Survived')\n",
        "\n",
        "# use pandas get_dummies to one-hot-encode categorical values\n",
        "# we would expect only numeric values left in our dataframe\n",
        "# rename this df as encoded so we understand it's the encoded version\n",
        "# of the original\n",
        "titanic_encoded_X = pd.get_dummies(titanic)\n",
        "\n",
        "titanic_encoded_X.head()"
      ],
      "execution_count": null,
      "outputs": []
    },
    {
      "cell_type": "code",
      "metadata": {
        "id": "hqSodLE1S-0i"
      },
      "source": [
        "# lucky for us the binary target values are already numeric ie 0,1 instead of \"yes\",\"no\" \"true\",\"false\" etc\n",
        "# this saves us a step of having to encode the series. \n",
        "y_target"
      ],
      "execution_count": null,
      "outputs": []
    },
    {
      "cell_type": "markdown",
      "metadata": {
        "id": "r27l1opOg87C"
      },
      "source": [
        "# 3 Pre-model-building data exploration"
      ]
    },
    {
      "cell_type": "code",
      "metadata": {
        "id": "1wSo0g9Hhvec"
      },
      "source": [
        "# generate metrics for male and female passengers. in this notebook we will demonstrate doing what was done in R,\n",
        "# but in this case we will use a function to simplify the code\n",
        "# often when doing the same thing 2 or more times a function can reduce redundant code"
      ],
      "execution_count": null,
      "outputs": []
    },
    {
      "cell_type": "code",
      "metadata": {
        "id": "SVdSixzYifpZ"
      },
      "source": [
        "titanic[titanic['Sex']=='male'] # demonstration of how to filter a dataframe"
      ],
      "execution_count": null,
      "outputs": []
    },
    {
      "cell_type": "code",
      "metadata": {
        "id": "nPoA3So-h_Ok"
      },
      "source": [
        "def metrics_by_gender(gender,df):\n",
        "  # filter df by gender\n",
        "  display(\"Dataframe subset of: \"+gender)\n",
        "\n",
        "  df = df[df['Sex']==gender]\n",
        "  \n",
        "  print(gender+\": shape\")\n",
        "  display(df.shape)\n",
        "\n",
        "  print(gender+\": describe\")\n",
        "  display(df.describe())\n"
      ],
      "execution_count": null,
      "outputs": []
    },
    {
      "cell_type": "code",
      "metadata": {
        "id": "UFHMjEFAiTbc"
      },
      "source": [
        "# demonstration of a very simple function that just subsets the dataframe and prints the new shape\n",
        "for gender in ['male','female']:\n",
        "  df = titanic[titanic['Sex']==gender]\n",
        "  print(gender)\n",
        "  print(df.shape)\n",
        "  print()"
      ],
      "execution_count": null,
      "outputs": []
    },
    {
      "cell_type": "code",
      "metadata": {
        "id": "Qw8PMvBQmbUW"
      },
      "source": [
        "# demonstration of a very simple function that just subsets the dataframe and prints the new shape\n",
        "for gender in ['male','female']:\n",
        "  df = titanic[titanic['Sex']==gender]\n",
        "  print(gender)\n",
        "  print(df.describe())\n",
        "  print()"
      ],
      "execution_count": null,
      "outputs": []
    },
    {
      "cell_type": "code",
      "metadata": {
        "id": "v5r1gIxSmsKt"
      },
      "source": [
        "# demonstration of a very simple function that just subsets the dataframe and prints the new shape\n",
        "for gender in ['male','female']:\n",
        "  df = titanic_raw[titanic_raw['Sex']==gender]\n",
        "  print(gender)\n",
        "  #print(df.groupby('Survived').value_counts())\n",
        "  print(df.groupby(['Survived','Pclass'])[['Pclass']].agg(['count']))\n",
        "  print()"
      ],
      "execution_count": null,
      "outputs": []
    },
    {
      "cell_type": "code",
      "metadata": {
        "id": "LbeiPlAan-oz"
      },
      "source": [
        "for gender in ['male','female']:\n",
        "  df = titanic_raw[titanic_raw['Sex']==gender]\n",
        "  print(gender)\n",
        "  #print(df.groupby('Survived').value_counts())\n",
        "  print(df.groupby(['Survived','Embarked'])[['Embarked']].agg(['count']))\n",
        "  print()"
      ],
      "execution_count": null,
      "outputs": []
    },
    {
      "cell_type": "code",
      "metadata": {
        "id": "WfQKggwfoRgz"
      },
      "source": [
        "# demonstrating a nested for loop\n",
        "# be careful of going much deeper than this in a loop \n",
        "# the code becomes very difficult to read\n",
        "np.warnings.filterwarnings('ignore', category=np.VisibleDeprecationWarning)   # ignore some ugly warnings because of code that is being deprecated\n",
        "\n",
        "for numeric_var in ['Age','Fare','Parch','SibSp']:\n",
        "  for gender in ['male','female'] :\n",
        "    df = titanic_raw[titanic_raw['Sex']==gender]\n",
        "    df.boxplot(column=[numeric_var],by=['Survived']) # R boxplot(Age~Survived, data = titanic)\n",
        "    plt.title( 'Boxplot of %s by Survived and Sex=%s' % (numeric_var,gender) )\n",
        "    plt.suptitle('')\n",
        "    plt.show()\n"
      ],
      "execution_count": null,
      "outputs": []
    },
    {
      "cell_type": "markdown",
      "metadata": {
        "id": "a7fWYyDDWYqm"
      },
      "source": [
        "# 4 build decision trees"
      ]
    },
    {
      "cell_type": "code",
      "metadata": {
        "id": "usHG_gNYUwW_"
      },
      "source": [
        "# random state\n",
        "# set random state for all models for reproducbility\n",
        "# if this is NOT set then you will see variations each time you run the model\n",
        "# for this reason reproducibility is desirable in homeworks\n",
        "random_state = 42"
      ],
      "execution_count": null,
      "outputs": []
    },
    {
      "cell_type": "code",
      "metadata": {
        "id": "GWNBy7K3TxMx"
      },
      "source": [
        "# what is tree?\n",
        "tree\n",
        "\n",
        "# an instance of a sklearn tree classifier"
      ],
      "execution_count": null,
      "outputs": []
    },
    {
      "cell_type": "code",
      "metadata": {
        "id": "EFNBXeHAUrAs"
      },
      "source": [
        "tree_model_1 = tree.DecisionTreeClassifier(random_state=random_state,ccp_alpha=.10)\n",
        "tree_model_1"
      ],
      "execution_count": null,
      "outputs": []
    },
    {
      "cell_type": "markdown",
      "metadata": {
        "id": "PGQ8oJ4hhHZF"
      },
      "source": [
        "## model 1 (all data)"
      ]
    },
    {
      "cell_type": "markdown",
      "metadata": {
        "id": "CjWSFEweWSRZ"
      },
      "source": [
        "### fit/train the model"
      ]
    },
    {
      "cell_type": "code",
      "metadata": {
        "id": "iJk3cgFWVNVA"
      },
      "source": [
        "# note, there is a lot going on behind the scenes here fitting is a complex process\n",
        "# the first argument is a dataset of the predictors. the second is a series of the target or y variable. \n",
        "tree_model_1 = tree_model_1.fit(titanic_encoded_X,y_target) # this trains the model on the x and y data "
      ],
      "execution_count": null,
      "outputs": []
    },
    {
      "cell_type": "markdown",
      "metadata": {
        "id": "19zRYzXfWdfq"
      },
      "source": [
        "### plot the tree"
      ]
    },
    {
      "cell_type": "code",
      "metadata": {
        "id": "j6pjsPCXWhlH"
      },
      "source": [
        "fig = plt.figure(figsize=(7,7))\n",
        "_ = tree.plot_tree(tree_model_1,\n",
        "                   feature_names=titanic_encoded_X.columns.to_list(), # make sure the feature names are in output\n",
        "                   filled=True) # filled true color codes by the class. shading indicates proportion or quality of split"
      ],
      "execution_count": null,
      "outputs": []
    },
    {
      "cell_type": "markdown",
      "metadata": {
        "id": "euAuajRFhKD4"
      },
      "source": [
        "## model 2 "
      ]
    },
    {
      "cell_type": "code",
      "metadata": {
        "id": "zQQ8RTPnhT3k"
      },
      "source": [
        "# create a new model 2\n",
        "tree_model_2 = tree.DecisionTreeClassifier(random_state=random_state,ccp_alpha=0.02)\n",
        "tree_model_2\n",
        "\n",
        "# note, there is a lot going on behind the scenes here fitting is a complex process\n",
        "tree_model_2 = tree_model_2.fit(titanic_encoded_X,y_target) # this trains the model on the x and y data \n"
      ],
      "execution_count": null,
      "outputs": []
    },
    {
      "cell_type": "markdown",
      "metadata": {
        "id": "ltzrR25iWpuZ"
      },
      "source": [
        "### plot the tree"
      ]
    },
    {
      "cell_type": "code",
      "metadata": {
        "id": "9c-a4KzAhStY"
      },
      "source": [
        "fig = plt.figure(figsize=(7,7))\n",
        "_ = tree.plot_tree(tree_model_2,\n",
        "                   feature_names=titanic_encoded_X.columns.to_list(), # make sure the feature names are in output\n",
        "                   filled=True) # filled true color codes by the class. shading indicates proportion or quality of split"
      ],
      "execution_count": null,
      "outputs": []
    },
    {
      "cell_type": "markdown",
      "source": [
        "## model 3"
      ],
      "metadata": {
        "id": "TaiPooH5T25F"
      }
    },
    {
      "cell_type": "code",
      "source": [
        "# create a new model 2\n",
        "tree_model_3 = tree.DecisionTreeClassifier(random_state=random_state,ccp_alpha=0.0002)\n",
        "tree_model_3\n",
        "\n",
        "# note, there is a lot going on behind the scenes here fitting is a complex process\n",
        "tree_model_3 = tree_model_3.fit(titanic_encoded_X,y_target) # this trains the model on the x and y data \n"
      ],
      "metadata": {
        "id": "27Wuu61OT9Ri"
      },
      "execution_count": null,
      "outputs": []
    },
    {
      "cell_type": "markdown",
      "source": [
        "plot the tree"
      ],
      "metadata": {
        "id": "DsB5ebT8T89m"
      }
    },
    {
      "cell_type": "code",
      "source": [
        "fig = plt.figure(figsize=(7,7))\n",
        "_ = tree.plot_tree(tree_model_3,\n",
        "                   feature_names=titanic_encoded_X.columns.to_list(), # make sure the feature names are in output\n",
        "                   filled=True) # filled true color codes by the class. shading indicates proportion or quality of split"
      ],
      "metadata": {
        "id": "Ufi28th_UFvm"
      },
      "execution_count": null,
      "outputs": []
    },
    {
      "cell_type": "markdown",
      "metadata": {
        "id": "PFhTopLWqwK4"
      },
      "source": [
        "# 5 Generate performance metrics"
      ]
    },
    {
      "cell_type": "code",
      "metadata": {
        "id": "a7B7QFG3rFWU"
      },
      "source": [
        "# predict() applies a model (1st argument) to a data set (2nd argument).\n",
        "# Let's apply it to the whole data set that was used to train the model \n",
        "# to see the model's performance metrics in training data (i.e., not holdout evaluation)\n",
        "# Take a look at the structure and summary of predicted_Survived_w1 to understand the output of predict()"
      ],
      "execution_count": null,
      "outputs": []
    },
    {
      "cell_type": "code",
      "metadata": {
        "id": "69OrJ8Xnbid-"
      },
      "source": [
        "# create a confusion matrix comparing y_true and y_predicted\n",
        "model_1_pred = tree_model_1.predict(titanic_encoded_X)\n",
        "\n",
        "print(model_1_pred[0:10])\n",
        "print(model_1_pred.shape)"
      ],
      "execution_count": null,
      "outputs": []
    },
    {
      "cell_type": "code",
      "metadata": {
        "id": "82SetOarrqE-"
      },
      "source": [
        "print(len(model_1_pred))"
      ],
      "execution_count": null,
      "outputs": []
    },
    {
      "cell_type": "markdown",
      "metadata": {
        "id": "Cp7lo8fgZarK"
      },
      "source": [
        "### model 1,2,3 performance metrics"
      ]
    },
    {
      "cell_type": "code",
      "metadata": {
        "id": "wL_7KzForync"
      },
      "source": [
        "model_2_pred = tree_model_2.predict(titanic_encoded_X)"
      ],
      "execution_count": null,
      "outputs": []
    },
    {
      "cell_type": "code",
      "source": [
        "model_3_pred = tree_model_3.predict(titanic_encoded_X)"
      ],
      "metadata": {
        "id": "xMIXmbJwVFT3"
      },
      "execution_count": null,
      "outputs": []
    },
    {
      "cell_type": "code",
      "metadata": {
        "id": "vtRts6VFrr6g"
      },
      "source": [
        "model_1_cf = confusion_matrix(y_true=y_target,y_pred=model_1_pred)\n",
        "model_1_cf"
      ],
      "execution_count": null,
      "outputs": []
    },
    {
      "cell_type": "code",
      "metadata": {
        "id": "RobtTvfqr56U"
      },
      "source": [
        "model_2_cf = confusion_matrix(y_true=y_target,y_pred=model_2_pred)\n",
        "model_2_cf"
      ],
      "execution_count": null,
      "outputs": []
    },
    {
      "cell_type": "code",
      "source": [
        "model_3_cf = confusion_matrix(y_true=y_target,y_pred=model_3_pred)\n",
        "model_3_cf"
      ],
      "metadata": {
        "id": "ml1-Gcy6VAhw"
      },
      "execution_count": null,
      "outputs": []
    },
    {
      "cell_type": "markdown",
      "metadata": {
        "id": "5GaLv9S_tHWe"
      },
      "source": [
        "### recall, precision f1 etc"
      ]
    },
    {
      "cell_type": "code",
      "metadata": {
        "id": "Y6q5c-o0sL3R"
      },
      "source": [
        "# performance of the tree_model_1\n",
        "# be sure to compare these metrics across the models\n",
        "# metrics themselves are more useful when comparing across models\n",
        "print(metrics.classification_report(y_target,model_1_pred))"
      ],
      "execution_count": null,
      "outputs": []
    },
    {
      "cell_type": "code",
      "metadata": {
        "id": "lf81go9jssYn"
      },
      "source": [
        "print(metrics.classification_report(y_target,model_2_pred))"
      ],
      "execution_count": null,
      "outputs": []
    },
    {
      "cell_type": "code",
      "source": [
        "print(metrics.classification_report(y_target,model_3_pred))"
      ],
      "metadata": {
        "id": "_Bi1aEZpUPg9"
      },
      "execution_count": null,
      "outputs": []
    }
  ]
}