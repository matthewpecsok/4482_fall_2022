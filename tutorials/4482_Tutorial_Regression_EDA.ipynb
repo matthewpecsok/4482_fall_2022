{
  "nbformat": 4,
  "nbformat_minor": 0,
  "metadata": {
    "colab": {
      "name": "4482_Tutorial_Regression_EDA.ipynb",
      "provenance": [],
      "mount_file_id": "1AdRvcFyTqJh5QwzTQkCYe5WE83Hkwhrw",
      "authorship_tag": "ABX9TyM+HGMSxv6SVbgHhhQOUHet",
      "include_colab_link": true
    },
    "kernelspec": {
      "name": "python3",
      "display_name": "Python 3"
    },
    "language_info": {
      "name": "python"
    }
  },
  "cells": [
    {
      "cell_type": "markdown",
      "metadata": {
        "id": "view-in-github",
        "colab_type": "text"
      },
      "source": [
        "<a href=\"https://colab.research.google.com/github/matthewpecsok/4482_fall_2022/blob/main/tutorials/4482_Tutorial_Regression_EDA.ipynb\" target=\"_parent\"><img src=\"https://colab.research.google.com/assets/colab-badge.svg\" alt=\"Open In Colab\"/></a>"
      ]
    },
    {
      "cell_type": "code",
      "metadata": {
        "id": "IQZaS9yFh3mZ"
      },
      "source": [
        "import pandas as pd\n",
        "import matplotlib.pyplot as plt\n",
        "import seaborn as sns\n",
        "from scipy import stats"
      ],
      "execution_count": null,
      "outputs": []
    },
    {
      "cell_type": "code",
      "metadata": {
        "id": "8TkHpI7vhlD4"
      },
      "source": [
        "url = 'http://archive.ics.uci.edu/ml/machine-learning-databases/auto-mpg/auto-mpg.data'\n",
        "column_names = ['mpg', 'cylinders', 'displacement', 'horsepower', 'weight',\n",
        "                'acceleration', 'model_year', 'origin']\n",
        "\n",
        "orig_dataset = pd.read_csv(url, names=column_names,\n",
        "                          na_values='?', comment='\\t',\n",
        "                          sep=' ', skipinitialspace=True)"
      ],
      "execution_count": null,
      "outputs": []
    },
    {
      "cell_type": "code",
      "metadata": {
        "id": "1fv-7F1bh1UK"
      },
      "source": [
        "car_mpg = orig_dataset.copy()"
      ],
      "execution_count": null,
      "outputs": []
    },
    {
      "cell_type": "code",
      "metadata": {
        "id": "h873MdoSh6a1"
      },
      "source": [
        "car_mpg.head()"
      ],
      "execution_count": null,
      "outputs": []
    },
    {
      "cell_type": "code",
      "metadata": {
        "id": "GAElDCFbiLAH"
      },
      "source": [
        "car_mpg.info()"
      ],
      "execution_count": null,
      "outputs": []
    },
    {
      "cell_type": "code",
      "metadata": {
        "id": "L7oo7SniiPl3"
      },
      "source": [
        "car_mpg.isnull().sum()"
      ],
      "execution_count": null,
      "outputs": []
    },
    {
      "cell_type": "markdown",
      "metadata": {
        "id": "75T0LAs6wf3y"
      },
      "source": [
        " we have 6 nulls. let's drop them"
      ]
    },
    {
      "cell_type": "code",
      "metadata": {
        "id": "iNWc34Zgwi0B"
      },
      "source": [
        "car_mpg = car_mpg.dropna()"
      ],
      "execution_count": null,
      "outputs": []
    },
    {
      "cell_type": "code",
      "metadata": {
        "id": "mAS0_P2DRpXz"
      },
      "source": [
        "car_mpg.shape"
      ],
      "execution_count": null,
      "outputs": []
    },
    {
      "cell_type": "code",
      "metadata": {
        "id": "dQcx53bwiV3n"
      },
      "source": [
        "car_mpg['origin'] = car_mpg['origin'].map({1: 'USA', 2: 'Europe', 3: 'Japan'})\n",
        "car_mpg.origin.value_counts()"
      ],
      "execution_count": null,
      "outputs": []
    },
    {
      "cell_type": "code",
      "metadata": {
        "id": "sWvcvB9ri8bH"
      },
      "source": [
        "car_mpg.origin.value_counts().plot.bar(title=\"count of origin\")\n",
        "plt.plot()"
      ],
      "execution_count": null,
      "outputs": []
    },
    {
      "cell_type": "code",
      "metadata": {
        "id": "GJRLHd2LSbC1"
      },
      "source": [
        "sns.pairplot(car_mpg)"
      ],
      "execution_count": null,
      "outputs": []
    },
    {
      "cell_type": "code",
      "metadata": {
        "id": "ktQc4Z-mjFnm"
      },
      "source": [
        "sns.pairplot(car_mpg, diag_kind='kde')"
      ],
      "execution_count": null,
      "outputs": []
    },
    {
      "cell_type": "markdown",
      "metadata": {
        "id": "wHIFCBO3n0PY"
      },
      "source": [
        "# compute the correlation matrix"
      ]
    },
    {
      "cell_type": "code",
      "metadata": {
        "id": "yFR_ej2wnslL"
      },
      "source": [
        "# compute correlation\n",
        "cor = car_mpg.corr()"
      ],
      "execution_count": null,
      "outputs": []
    },
    {
      "cell_type": "markdown",
      "metadata": {
        "id": "aRkaQikSnqGo"
      },
      "source": [
        "# Correlation\n",
        "\n",
        "# heatmap of correlation"
      ]
    },
    {
      "cell_type": "code",
      "metadata": {
        "id": "oOQwU2tkkCPV"
      },
      "source": [
        "\n",
        "\n",
        "# plot the heatmap\n",
        "sns.heatmap(cor, \n",
        "            annot=True,\n",
        "            cmap=sns.color_palette(\"vlag\"), \n",
        "        xticklabels=cor.columns,\n",
        "        yticklabels=cor.columns)\n",
        "\n",
        "plt.plot()"
      ],
      "execution_count": null,
      "outputs": []
    },
    {
      "cell_type": "markdown",
      "metadata": {
        "id": "E6BK9Jfpn3fC"
      },
      "source": [
        "# show the correlation"
      ]
    },
    {
      "cell_type": "code",
      "metadata": {
        "id": "3KewZefolVVW"
      },
      "source": [
        "cor['mpg'].sort_values(ascending=False)"
      ],
      "execution_count": null,
      "outputs": []
    },
    {
      "cell_type": "markdown",
      "metadata": {
        "id": "G9Afq1Fknllz"
      },
      "source": [
        "# positive correlation"
      ]
    },
    {
      "cell_type": "code",
      "metadata": {
        "id": "HD_sE7YImwOh"
      },
      "source": [
        "cor[cor['mpg']>0]['mpg'].sort_values(ascending=False)"
      ],
      "execution_count": null,
      "outputs": []
    },
    {
      "cell_type": "markdown",
      "metadata": {
        "id": "cO16XBU6nnP9"
      },
      "source": [
        "# negative correlation"
      ]
    },
    {
      "cell_type": "code",
      "metadata": {
        "id": "6LD0ZVrxnbOW"
      },
      "source": [
        "cor[cor['mpg']<0]['mpg'].sort_values(ascending=True)"
      ],
      "execution_count": null,
      "outputs": []
    },
    {
      "cell_type": "code",
      "metadata": {
        "id": "OcHqE0M8otY0"
      },
      "source": [
        ""
      ],
      "execution_count": null,
      "outputs": []
    },
    {
      "cell_type": "code",
      "metadata": {
        "id": "evYJcDUSnj1g"
      },
      "source": [
        ""
      ],
      "execution_count": null,
      "outputs": []
    },
    {
      "cell_type": "markdown",
      "metadata": {
        "id": "jvhxtqcExIT3"
      },
      "source": [
        "stats model allows us to perform a single regression for one predictor an outcome. it does not allow multiple regression (multiple predictors). But for this investigation we'd like to see each predictor and our outcome separately. "
      ]
    },
    {
      "cell_type": "code",
      "metadata": {
        "id": "Hk1lf6YkX0xR"
      },
      "source": [
        ""
      ],
      "execution_count": null,
      "outputs": []
    },
    {
      "cell_type": "code",
      "metadata": {
        "id": "Qm4hYHRtpCLv"
      },
      "source": [
        "predictor = 'weight'\n",
        "\n",
        "model = stats.linregress(car_mpg[predictor], car_mpg['mpg'])\n",
        "print(\"r2_value\",model.rvalue**2)\n",
        "print(\"p value\",model.pvalue)\n",
        "\n",
        "#print(\"r2_value\",model.coef)\n",
        "plt.plot(car_mpg[predictor], car_mpg['mpg'], 'o', label='original data')\n",
        "plt.plot(car_mpg[predictor], model.intercept + model.slope*car_mpg[predictor], 'r', label='fitted line')\n",
        "plt.legend()\n",
        "plt.title(f'regressing mpg and {predictor}')\n",
        "plt.xlabel(predictor)\n",
        "plt.ylabel('mpg')\n",
        "plt.show()"
      ],
      "execution_count": null,
      "outputs": []
    },
    {
      "cell_type": "code",
      "metadata": {
        "id": "LrwqDdogqCeQ"
      },
      "source": [
        "predictor = 'horsepower'\n",
        "\n",
        "model = stats.linregress(car_mpg[predictor], car_mpg['mpg'])\n",
        "print(\"r2\",model.rvalue**2)\n",
        "print(\"p value\",model.pvalue)\n",
        "#print(\"r2_value\",model.coef)\n",
        "plt.plot(car_mpg[predictor], car_mpg['mpg'], 'o', label='original data')\n",
        "plt.plot(car_mpg[predictor], model.intercept + model.slope*car_mpg[predictor], 'r', label='fitted line')\n",
        "plt.legend()\n",
        "plt.title(f'regressing mpg and {predictor}')\n",
        "plt.xlabel(predictor)\n",
        "plt.ylabel('mpg')\n",
        "plt.show()"
      ],
      "execution_count": null,
      "outputs": []
    },
    {
      "cell_type": "code",
      "metadata": {
        "id": "qGGw_ZG1q559"
      },
      "source": [
        "predictor = 'model_year'\n",
        "\n",
        "model = stats.linregress(car_mpg[predictor], car_mpg['mpg'])\n",
        "print(\"r2\",model.rvalue**2)\n",
        "print(\"p value\",model.pvalue)\n",
        "#print(\"r2_value\",model.coef)\n",
        "plt.plot(car_mpg[predictor], car_mpg['mpg'], 'o', label='original data')\n",
        "plt.plot(car_mpg[predictor], model.intercept + model.slope*car_mpg[predictor], 'r', label='fitted line')\n",
        "plt.legend()\n",
        "plt.title(f'regressing mpg and {predictor}')\n",
        "plt.xlabel(predictor)\n",
        "plt.ylabel('mpg')\n",
        "plt.show()"
      ],
      "execution_count": null,
      "outputs": []
    },
    {
      "cell_type": "markdown",
      "metadata": {
        "id": "bauxV9z-rvMQ"
      },
      "source": [
        "# removing redundant code with a function\n",
        "\n",
        "It's getting clear that this needs to be repeated for each predictor. let's create a function to simplify"
      ]
    },
    {
      "cell_type": "code",
      "metadata": {
        "id": "G4_3RuE_rf-O"
      },
      "source": [
        "def helper_fun(predictor,df):\n",
        "  model = stats.linregress(df[predictor], df['mpg'])\n",
        "  print(\"r2\",model.rvalue**2)\n",
        "  print(\"p value\",model.pvalue)\n",
        "  #print(\"r2_value\",model.coef)\n",
        "  plt.plot(df[predictor], df['mpg'], 'o', label='original data')\n",
        "  plt.plot(df[predictor], model.intercept + model.slope*df[predictor], 'r', label='fitted line')\n",
        "  plt.legend()\n",
        "  plt.title(f'regressing mpg and {predictor}')\n",
        "  plt.xlabel(predictor)\n",
        "  plt.ylabel('mpg')\n",
        "  plt.show()"
      ],
      "execution_count": null,
      "outputs": []
    },
    {
      "cell_type": "code",
      "metadata": {
        "id": "MAG2wo6arrq-"
      },
      "source": [
        "helper_fun('model_year',car_mpg)"
      ],
      "execution_count": null,
      "outputs": []
    },
    {
      "cell_type": "markdown",
      "metadata": {
        "id": "7dff-Dz9xDTR"
      },
      "source": [
        ""
      ]
    },
    {
      "cell_type": "code",
      "metadata": {
        "id": "aIcGIn9Iawgx"
      },
      "source": [
        "car_mpg.drop('origin',axis=1).columns"
      ],
      "execution_count": null,
      "outputs": []
    },
    {
      "cell_type": "code",
      "metadata": {
        "id": "kBXD0Jf8rtzg"
      },
      "source": [
        "for col in car_mpg.drop('origin',axis=1).columns:\n",
        "  helper_fun(col,car_mpg)"
      ],
      "execution_count": null,
      "outputs": []
    },
    {
      "cell_type": "code",
      "metadata": {
        "id": "syT3ramdx-QH"
      },
      "source": [
        "cat_data = pd.get_dummies(car_mpg[['mpg','origin']])\n",
        "cat_data.head()"
      ],
      "execution_count": null,
      "outputs": []
    },
    {
      "cell_type": "code",
      "metadata": {
        "id": "axywdt9Ntlld"
      },
      "source": [
        "helper_fun('origin_USA',cat_data)"
      ],
      "execution_count": null,
      "outputs": []
    },
    {
      "cell_type": "code",
      "metadata": {
        "id": "hF0mO7inzNeX"
      },
      "source": [
        "cat_data.groupby('origin_USA').mean()"
      ],
      "execution_count": null,
      "outputs": []
    },
    {
      "cell_type": "code",
      "metadata": {
        "id": "JREBbbGw1b4G"
      },
      "source": [
        "helper_fun('origin_Europe',cat_data)"
      ],
      "execution_count": null,
      "outputs": []
    },
    {
      "cell_type": "code",
      "metadata": {
        "id": "xUfyPFmM1lJx"
      },
      "source": [
        "cat_data.groupby('origin_Europe').mean()"
      ],
      "execution_count": null,
      "outputs": []
    },
    {
      "cell_type": "code",
      "metadata": {
        "id": "Q02K2QNi1sr5"
      },
      "source": [
        "helper_fun('origin_Japan',cat_data)"
      ],
      "execution_count": null,
      "outputs": []
    },
    {
      "cell_type": "code",
      "metadata": {
        "id": "rqKYQCcj1xjb"
      },
      "source": [
        "cat_data.groupby('origin_Japan').mean()"
      ],
      "execution_count": null,
      "outputs": []
    },
    {
      "cell_type": "code",
      "metadata": {
        "id": "gZH9htO2x741"
      },
      "source": [
        "model.slope"
      ],
      "execution_count": null,
      "outputs": []
    },
    {
      "cell_type": "code",
      "metadata": {
        "id": "XZFFVMxOzmyV"
      },
      "source": [
        "import numpy as np"
      ],
      "execution_count": null,
      "outputs": []
    },
    {
      "cell_type": "markdown",
      "metadata": {
        "id": "YG6Jj2Lzz_-A"
      },
      "source": [
        "Using the values 29 and 20 for origin_USA 0 and 1 respectively inspect the graph. do you see where those values match the graph? not coincidentally they are exactly where the red line intersects the data for 0 and 1. Check Europe and Japan to check your understanding. \n",
        "\n",
        "regression for categorical data simply involves finding the mean value for that category. "
      ]
    },
    {
      "cell_type": "markdown",
      "metadata": {
        "id": "jmqXtKAh2UjF"
      },
      "source": [
        "# understanding non-linearity and transforms"
      ]
    },
    {
      "cell_type": "code",
      "metadata": {
        "id": "RBhlAAY12frB"
      },
      "source": [
        "new_car_mpg = car_mpg.copy()\n",
        "new_car_mpg['horsepower_1_over_x'] = new_car_mpg['horsepower']**.05"
      ],
      "execution_count": null,
      "outputs": []
    },
    {
      "cell_type": "code",
      "metadata": {
        "id": "vyOgPeLs2yb0"
      },
      "source": [
        "helper_fun('horsepower',new_car_mpg)"
      ],
      "execution_count": null,
      "outputs": []
    },
    {
      "cell_type": "code",
      "metadata": {
        "id": "xoYkm2BGdGxO"
      },
      "source": [
        "1/10\n"
      ],
      "execution_count": null,
      "outputs": []
    },
    {
      "cell_type": "code",
      "metadata": {
        "id": "oEWt5Z2Azfeo"
      },
      "source": [
        "helper_fun('horsepower_1_over_x',new_car_mpg)"
      ],
      "execution_count": null,
      "outputs": []
    },
    {
      "cell_type": "markdown",
      "metadata": {
        "id": "DjMSRySb4wLe"
      },
      "source": [
        "our new R squared suggests we have improved the overall fit of the line. We have changed the predictorwith a non-linear transform, and our result is a more linear results. But what does our x axis unit mean now? It could be translated back to the original units with the inverse of the transform we used but the casual observer will no longer easily be able to interpret horsepower. \n",
        "\n",
        "Also, have ALL the dots gotten closer to the line in ALL cases? or have we made some worse? Transforms like this are often a tradeoff. \n",
        "\n",
        "This is your first foray into a topic known as \"Feature Engineering\" in which you attempt to improve your model by creating new features based on the original data. "
      ]
    },
    {
      "cell_type": "code",
      "metadata": {
        "id": "GXUFPvU32cQu"
      },
      "source": [
        "!cp \"/content/drive/My Drive/Colab Notebooks/4482_Tutorial_Regression_EDA.ipynb\" ./\n",
        "\n",
        "# run the second shell command, jupyter nbconvert --to html \"file name of the notebook\"\n",
        "# create html from ipynb\n",
        "\n",
        "!jupyter nbconvert --to html \"4482_Tutorial_Regression_EDA.ipynb\""
      ],
      "execution_count": null,
      "outputs": []
    }
  ]
}