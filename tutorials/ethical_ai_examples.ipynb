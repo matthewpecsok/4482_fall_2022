{
  "nbformat": 4,
  "nbformat_minor": 0,
  "metadata": {
    "colab": {
      "provenance": [],
      "authorship_tag": "ABX9TyOb9GC0XTaMOikn9nKHSkIF",
      "include_colab_link": true
    },
    "kernelspec": {
      "name": "python3",
      "display_name": "Python 3"
    },
    "language_info": {
      "name": "python"
    }
  },
  "cells": [
    {
      "cell_type": "markdown",
      "metadata": {
        "id": "view-in-github",
        "colab_type": "text"
      },
      "source": [
        "<a href=\"https://colab.research.google.com/github/matthewpecsok/4482_fall_2022/blob/main/tutorials/ethical_ai_examples.ipynb\" target=\"_parent\"><img src=\"https://colab.research.google.com/assets/colab-badge.svg\" alt=\"Open In Colab\"/></a>"
      ]
    },
    {
      "cell_type": "code",
      "source": [
        "import pandas as pd"
      ],
      "metadata": {
        "id": "ysQk6dLIxTk6"
      },
      "execution_count": 10,
      "outputs": []
    },
    {
      "cell_type": "code",
      "source": [
        "def filtercross(df):\n",
        "  for region in ['N','S']:\n",
        "    filtered_df = df[df['Region']==region]\n",
        "    print(f'Region={region} {filtered_df.Qualified.value_counts(normalize=True)[1]:.0%} are qualified')\n",
        "    ct = pd.crosstab(filtered_df['Promoted'], filtered_df['Qualified'])\n",
        "    table = round(ct.div(ct.sum(axis=0), axis=1),2)\n",
        "    print(f'\\n')\n",
        "    print(table)\n",
        "    print('\\n')\n",
        "    print(f'Percent of Qualified candidates promoted {table[1][1]:.0%}')\n",
        "    print(f'Percent of UN-Qualified candidates promoted {table[0][0]:.0%}')\n",
        "    print(f'Total Percentage of {region} promoted = {filtered_df.Promoted.value_counts(normalize=True)[1]:.0%}')\n",
        "    print('\\n')"
      ],
      "metadata": {
        "id": "3PH0tl7y14Y_"
      },
      "execution_count": 11,
      "outputs": []
    },
    {
      "cell_type": "markdown",
      "source": [
        "# Equal Opportunity\n",
        "\n",
        "Satisfied when the proportion of promotions is the same for qualified candidates in each region. "
      ],
      "metadata": {
        "id": "sRcqxb7uwxIE"
      }
    },
    {
      "cell_type": "code",
      "execution_count": 80,
      "metadata": {
        "colab": {
          "base_uri": "https://localhost:8080/"
        },
        "id": "qBsOZ2-dvIRY",
        "outputId": "5c826b2f-f215-40be-efc5-d2185595b883"
      },
      "outputs": [
        {
          "output_type": "stream",
          "name": "stdout",
          "text": [
            "Region=N 90% are qualified\n",
            "\n",
            "\n",
            "Qualified    0    1\n",
            "Promoted           \n",
            "0          0.7  0.5\n",
            "1          0.3  0.5\n",
            "\n",
            "\n",
            "Percent of Qualified candidates promoted 50%\n",
            "Percent of UN-Qualified candidates promoted 70%\n",
            "Total Percentage of N promoted = 48%\n",
            "\n",
            "\n",
            "Region=S 10% are qualified\n",
            "\n",
            "\n",
            "Qualified    0    1\n",
            "Promoted           \n",
            "0          0.9  0.5\n",
            "1          0.1  0.5\n",
            "\n",
            "\n",
            "Percent of Qualified candidates promoted 50%\n",
            "Percent of UN-Qualified candidates promoted 90%\n",
            "Total Percentage of S promoted = 14%\n",
            "\n",
            "\n"
          ]
        }
      ],
      "source": [
        "Region = ['N']*100+['S']*100\n",
        "Qualified = [1]*90+[0]*10 + [1]*10+[0]*90\n",
        "Promoted = [1]*45+[0]*45+[1]*3+[0]*7 + [1]*5+[0]*5+[1]*9+[0]*81\n",
        "\n",
        "ee = pd.DataFrame(\n",
        "    {'Qualified':Qualified,\n",
        "     'Promoted':Promoted,\n",
        "     'Region':Region})\n",
        "\n",
        "filtercross(ee)"
      ]
    },
    {
      "cell_type": "markdown",
      "source": [
        "# Demographic Parity\n",
        "\n",
        "Satisfied when the proportion of promotions are the same across regions. "
      ],
      "metadata": {
        "id": "CIlOANgoUXQP"
      }
    },
    {
      "cell_type": "code",
      "source": [
        "Region = ['N']*100+['S']*100\n",
        "Qualified = [1]*90+[0]*10 + [1]*10+[0]*90\n",
        "Promoted = [1]*45+[0]*45+[1]*3+[0]*7 + [1]*10+[0]*0+[1]*38+[0]*52\n",
        "\n",
        "dp = pd.DataFrame(\n",
        "    {'Qualified':Qualified,\n",
        "     'Promoted':Promoted,\n",
        "     'Region':Region})\n",
        "\n",
        "filtercross(dp)"
      ],
      "metadata": {
        "colab": {
          "base_uri": "https://localhost:8080/"
        },
        "id": "F1vdUJrMwq1O",
        "outputId": "1371463d-df89-4c1c-a8c2-62444e261d62"
      },
      "execution_count": 79,
      "outputs": [
        {
          "output_type": "stream",
          "name": "stdout",
          "text": [
            "Region=N 90% are qualified\n",
            "\n",
            "\n",
            "Qualified    0    1\n",
            "Promoted           \n",
            "0          0.7  0.5\n",
            "1          0.3  0.5\n",
            "\n",
            "\n",
            "Percent of Qualified candidates promoted 50%\n",
            "Percent of UN-Qualified candidates promoted 70%\n",
            "Total Percentage of N promoted = 48%\n",
            "\n",
            "\n",
            "Region=S 10% are qualified\n",
            "\n",
            "\n",
            "Qualified     0    1\n",
            "Promoted            \n",
            "0          0.58  0.0\n",
            "1          0.42  1.0\n",
            "\n",
            "\n",
            "Percent of Qualified candidates promoted 100%\n",
            "Percent of UN-Qualified candidates promoted 58%\n",
            "Total Percentage of S promoted = 48%\n",
            "\n",
            "\n"
          ]
        }
      ]
    },
    {
      "cell_type": "markdown",
      "source": [
        "# Equalized Odds\n",
        "\n",
        "Satisfied when the proption of promotions for qualified individuals and the proportion of no promotion for unqualified individuals is the same across regions. "
      ],
      "metadata": {
        "id": "5F4yo1a7UToI"
      }
    },
    {
      "cell_type": "code",
      "source": [
        "Region = ['N']*100+['S']*100\n",
        "Qualified = [1]*90+[0]*10 + [1]*10+[0]*90\n",
        "Promoted = [1]*45+[0]*45+[1]*3+[0]*7 + [1]*5+[0]*5+[1]*27+[0]*63\n",
        "\n",
        "eo = pd.DataFrame(\n",
        "    {'Qualified':Qualified,\n",
        "     'Promoted':Promoted,\n",
        "     'Region':Region})\n",
        "\n",
        "filtercross(eo)"
      ],
      "metadata": {
        "colab": {
          "base_uri": "https://localhost:8080/"
        },
        "id": "iZCMNqO8S_y4",
        "outputId": "166dfa50-030d-42ce-e1ab-9c50bab7c68b"
      },
      "execution_count": 86,
      "outputs": [
        {
          "output_type": "stream",
          "name": "stdout",
          "text": [
            "Region=N 90% are qualified\n",
            "\n",
            "\n",
            "Qualified    0    1\n",
            "Promoted           \n",
            "0          0.7  0.5\n",
            "1          0.3  0.5\n",
            "\n",
            "\n",
            "Percent of Qualified candidates promoted 50%\n",
            "Percent of UN-Qualified candidates promoted 70%\n",
            "Total Percentage of N promoted = 48%\n",
            "\n",
            "\n",
            "Region=S 10% are qualified\n",
            "\n",
            "\n",
            "Qualified    0    1\n",
            "Promoted           \n",
            "0          0.7  0.5\n",
            "1          0.3  0.5\n",
            "\n",
            "\n",
            "Percent of Qualified candidates promoted 50%\n",
            "Percent of UN-Qualified candidates promoted 70%\n",
            "Total Percentage of S promoted = 32%\n",
            "\n",
            "\n"
          ]
        }
      ]
    },
    {
      "cell_type": "code",
      "source": [],
      "metadata": {
        "colab": {
          "base_uri": "https://localhost:8080/"
        },
        "id": "9P-I8q4iAeiT",
        "outputId": "eebb8e95-4a7f-44fd-f74b-282388de5601"
      },
      "execution_count": 14,
      "outputs": [
        {
          "output_type": "stream",
          "name": "stdout",
          "text": [
            "Region=N 90% are qualified\n",
            "\n",
            "\n",
            "Qualified    0    1\n",
            "Promoted           \n",
            "0          0.7  0.5\n",
            "1          0.3  0.5\n",
            "\n",
            "\n",
            "Percent of Qualified candidates promoted 50%\n",
            "Percent of UN-Qualified candidates promoted 70%\n",
            "Total Percentage of N promoted = 48%\n",
            "\n",
            "\n",
            "Region=S 10% are qualified\n",
            "\n",
            "\n",
            "Qualified     0    1\n",
            "Promoted            \n",
            "0          0.58  0.0\n",
            "1          0.42  1.0\n",
            "\n",
            "\n",
            "Percent of Qualified candidates promoted 100%\n",
            "Percent of UN-Qualified candidates promoted 58%\n",
            "Total Percentage of S promoted = 48%\n",
            "\n",
            "\n"
          ]
        }
      ]
    },
    {
      "cell_type": "code",
      "source": [
        "filtercross(ee)"
      ],
      "metadata": {
        "colab": {
          "base_uri": "https://localhost:8080/"
        },
        "id": "_pNpZ4r12Mhu",
        "outputId": "98242378-c1d1-4873-fce4-b3c9ddde8320"
      },
      "execution_count": 15,
      "outputs": [
        {
          "output_type": "stream",
          "name": "stdout",
          "text": [
            "Region=N 90% are qualified\n",
            "\n",
            "\n",
            "Qualified    0    1\n",
            "Promoted           \n",
            "0          0.7  0.5\n",
            "1          0.3  0.5\n",
            "\n",
            "\n",
            "Percent of Qualified candidates promoted 50%\n",
            "Percent of UN-Qualified candidates promoted 70%\n",
            "Total Percentage of N promoted = 48%\n",
            "\n",
            "\n",
            "Region=S 10% are qualified\n",
            "\n",
            "\n",
            "Qualified    0    1\n",
            "Promoted           \n",
            "0          0.9  0.5\n",
            "1          0.1  0.5\n",
            "\n",
            "\n",
            "Percent of Qualified candidates promoted 50%\n",
            "Percent of UN-Qualified candidates promoted 90%\n",
            "Total Percentage of S promoted = 14%\n",
            "\n",
            "\n"
          ]
        }
      ]
    }
  ]
}