{
  "nbformat": 4,
  "nbformat_minor": 0,
  "metadata": {
    "colab": {
      "provenance": [],
      "authorship_tag": "ABX9TyPiJtTvaBCqVVxRmc6HkEAl",
      "include_colab_link": true
    },
    "kernelspec": {
      "name": "python3",
      "display_name": "Python 3"
    },
    "language_info": {
      "name": "python"
    }
  },
  "cells": [
    {
      "cell_type": "markdown",
      "metadata": {
        "id": "view-in-github",
        "colab_type": "text"
      },
      "source": [
        "<a href=\"https://colab.research.google.com/github/matthewpecsok/4482_fall_2022/blob/main/labs/quiz_7_ethical_ai.ipynb\" target=\"_parent\"><img src=\"https://colab.research.google.com/assets/colab-badge.svg\" alt=\"Open In Colab\"/></a>"
      ]
    },
    {
      "cell_type": "code",
      "execution_count": null,
      "metadata": {
        "id": "Q5bSUUKVZqGQ"
      },
      "outputs": [],
      "source": [
        "## Load packages \n",
        "\n",
        "import pandas as pd\n",
        "import numpy as np\n",
        "import sklearn\n",
        "from sklearn import tree\n",
        "from sklearn import metrics\n",
        "from sklearn.metrics import confusion_matrix\n",
        "from sklearn.model_selection import train_test_split\n",
        "\n",
        "import matplotlib.pyplot as plt\n",
        "\n",
        "from sklearn.model_selection import cross_validate"
      ]
    },
    {
      "cell_type": "code",
      "source": [
        "# read_csv has some defaults, we can just take the defaults here, but be aware they exist. \n",
        "titanic_raw = pd.read_csv(\"https://raw.githubusercontent.com/matthewpecsok/4482_fall_2022/main/data/titanic_cleaned.csv\")\n",
        "titanic = titanic_raw.copy()\n",
        "\n",
        "# raw is the original unedited version of our data which can be useful for inspecting changes we've made \n",
        "# compared to the original unedited data"
      ],
      "metadata": {
        "id": "mEpjkqL-aAL0"
      },
      "execution_count": null,
      "outputs": []
    },
    {
      "cell_type": "code",
      "source": [
        "titanic_raw.Sex.value_counts(normalize=False)"
      ],
      "metadata": {
        "id": "5WOj66klaaMC"
      },
      "execution_count": null,
      "outputs": []
    },
    {
      "cell_type": "code",
      "source": [
        "titanic_raw.Sex.value_counts(normalize=True)"
      ],
      "metadata": {
        "id": "Tfqtzat1aVZR"
      },
      "execution_count": null,
      "outputs": []
    },
    {
      "cell_type": "code",
      "source": [
        "ct = pd.crosstab(titanic_raw['Sex'], titanic_raw['Survived'])\n",
        "ct.div(ct.sum(axis=1), axis=0)"
      ],
      "metadata": {
        "id": "YPL0vOyxaBoY"
      },
      "execution_count": null,
      "outputs": []
    },
    {
      "cell_type": "markdown",
      "source": [
        "we can see that most passengers were males, and that the most males did not survive, while most females did survive. \n",
        "\n",
        "what we would like to know.... are the quality of predictions roughly the same for both males and females?"
      ],
      "metadata": {
        "id": "FhpJXgG2asIV"
      }
    },
    {
      "cell_type": "code",
      "source": [
        "y_target = titanic.pop('Survived')\n",
        "titanic_encoded_X = pd.get_dummies(titanic)\n",
        "# now that we have encoded our data split it into train test\n",
        "\n",
        "X_train, X_test, y_train, y_test = train_test_split(titanic_encoded_X, y_target , test_size=0.3, random_state=0,stratify=y_target)"
      ],
      "metadata": {
        "id": "fzZQOmIeaOtB"
      },
      "execution_count": null,
      "outputs": []
    },
    {
      "cell_type": "code",
      "source": [
        "tree_model_1 = tree.DecisionTreeClassifier(random_state=42,ccp_alpha=.003)\n",
        "tree_model_1"
      ],
      "metadata": {
        "id": "T5DB4NNdbhVw"
      },
      "execution_count": null,
      "outputs": []
    },
    {
      "cell_type": "markdown",
      "source": [
        "our overall model performance cross validated"
      ],
      "metadata": {
        "id": "gZtG9pJedDYs"
      }
    },
    {
      "cell_type": "code",
      "source": [
        "tree_model_1.fit( X_train, y_train)"
      ],
      "metadata": {
        "id": "GmdBJ9yTdWUx"
      },
      "execution_count": null,
      "outputs": []
    },
    {
      "cell_type": "code",
      "source": [
        "tree_model_1.get_n_leaves()"
      ],
      "metadata": {
        "id": "qyrLcNg_dcLL"
      },
      "execution_count": null,
      "outputs": []
    },
    {
      "cell_type": "code",
      "source": [
        "y_train_pred = tree_model_1.predict(X_train)\n",
        "y_test_pred = tree_model_1.predict(X_test)"
      ],
      "metadata": {
        "id": "GtPLSsMKdl1v"
      },
      "execution_count": null,
      "outputs": []
    },
    {
      "cell_type": "markdown",
      "source": [
        " train metrics"
      ],
      "metadata": {
        "id": "mPbgvespeOnN"
      }
    },
    {
      "cell_type": "code",
      "source": [
        "print(confusion_matrix(y_true=y_train,y_pred=y_train_pred))\n",
        "print(metrics.classification_report(y_train,y_train_pred))"
      ],
      "metadata": {
        "id": "E2b-M0yOcgoc"
      },
      "execution_count": null,
      "outputs": []
    },
    {
      "cell_type": "markdown",
      "source": [
        "test metrics"
      ],
      "metadata": {
        "id": "aVmhPk8ZeEZk"
      }
    },
    {
      "cell_type": "code",
      "source": [
        "print(confusion_matrix(y_true=y_test,y_pred=y_test_pred))\n",
        "print(metrics.classification_report(y_test,y_test_pred))"
      ],
      "metadata": {
        "id": "vjRvgcvkeTCr"
      },
      "execution_count": null,
      "outputs": []
    },
    {
      "cell_type": "markdown",
      "source": [
        "now let's find out what kind of errors we are getting by gender. a simple strategy is to put the test predictions BACK into the test X dataframe so we can then filter by gender, in addition you must also put the real target value back into the dataframe as it was popped.\n",
        "\n",
        "Remember our X data is encoded so our filter must take that into account."
      ],
      "metadata": {
        "id": "IFj-lrAqejll"
      }
    },
    {
      "cell_type": "code",
      "source": [
        "# put the predictions and the real values into X_test"
      ],
      "metadata": {
        "id": "SeJG0yz9eWh1"
      },
      "execution_count": null,
      "outputs": []
    },
    {
      "cell_type": "code",
      "source": [
        "# create 2 new dataframes, one for female, one for male\n",
        "# by filtering the dataframes for gender.\n",
        "\n",
        "# sample new_df1 = old_df[old_df['SomeColumn']==1].copy()"
      ],
      "metadata": {
        "id": "3Z_6rX7OifPX"
      },
      "execution_count": null,
      "outputs": []
    },
    {
      "cell_type": "markdown",
      "source": [
        "now we have our filtered dataframes by gender, generate the performance metrics again for each gender's prediction in test"
      ],
      "metadata": {
        "id": "e3bLYrh6kioh"
      }
    },
    {
      "cell_type": "markdown",
      "source": [
        "female results:\n"
      ],
      "metadata": {
        "id": "l-4E9p9Ixkvg"
      }
    },
    {
      "cell_type": "code",
      "source": [
        "# generate confusion matrix and classification reports for females"
      ],
      "metadata": {
        "id": "ZRqoCdQUkWT5"
      },
      "execution_count": null,
      "outputs": []
    },
    {
      "cell_type": "markdown",
      "source": [
        "male results:\n"
      ],
      "metadata": {
        "id": "KLlxK0M4yTPp"
      }
    },
    {
      "cell_type": "code",
      "source": [
        "# generate confusion matrix and classification reports for males"
      ],
      "metadata": {
        "id": "cUehSb-YlAdQ"
      },
      "execution_count": null,
      "outputs": []
    }
  ]
}